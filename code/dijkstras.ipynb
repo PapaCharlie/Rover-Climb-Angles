{
 "metadata": {
  "name": "",
  "signature": "sha256:2c2aa77a254f09988eef6d065d4ca4af551a23c3d07ac8fe98af1acc424669e4"
 },
 "nbformat": 3,
 "nbformat_minor": 0,
 "worksheets": [
  {
   "cells": [
    {
     "cell_type": "code",
     "collapsed": false,
     "input": [
      "from astropy.io import fits as fitsreader\n",
      "from numpy import amin, amax, nanmax, nanmin, nan, inf, float64, byte, fromfile, \\\n",
      "    array, arctan, isnan, degrees, histogram, save, load, empty_like, full, isfinite\n",
      "from scipy.io import savemat, loadmat\n",
      "from heapq import heappush as push, heappop as pop\n",
      "import matplotlib.pyplot as plt"
     ],
     "language": "python",
     "metadata": {},
     "outputs": [],
     "prompt_number": 11
    },
    {
     "cell_type": "code",
     "collapsed": false,
     "input": [
      "datasets = [\n",
      "  'DTEEC_011417_1755_011562_1755_U01',\n",
      "  'DTEEC_011844_1855_002812_1855_A01',\n",
      "  'DTEEC_015985_2040_016262_2040_U01',\n",
      "  'DTEEC_018854_1755_018920_1755_U01',\n",
      "  'DTEEC_019045_1530_019322_1530_U01',\n",
      "  'DTEEC_019612_1535_019678_1535_U01',\n",
      "  'DTEEC_019757_1560_020034_1560_U01',\n",
      "  'DTEEC_019823_1530_019889_1530_U01',\n",
      "  'DTEEC_020324_1555_020390_1555_U01',\n",
      "  'DTEEC_023957_1755_024023_1755_U01',\n",
      "  'DTEEC_024234_1755_024300_1755_U01',\n",
      "  'DTEEC_028011_2055_028288_2055_A01',\n",
      "  'DTEEC_041277_2115_040776_2115_A01'\n",
      "]\n",
      "\n",
      "class Frontier:\n",
      "    def __init__(self):\n",
      "        self.heap = []\n",
      "        self.keys = set()\n",
      "    \n",
      "    def push(self, (v,k)):\n",
      "        if k not in self.keys:\n",
      "            push(self.heap, (v,k))\n",
      "            self.keys.add(k)\n",
      "    \n",
      "    def pop(self):\n",
      "        if self.heap:\n",
      "            (v,k) = pop(self.heap)\n",
      "            self.keys.remove(k)\n",
      "            return (v,k)\n",
      "\n",
      "def load_data(d, cut = True):\n",
      "    global dtm\n",
      "    global max_angles\n",
      "    global res\n",
      "    global dataset\n",
      "    if type(d) == type(1):\n",
      "        dataset = datasets[d]\n",
      "    else:\n",
      "        dataset = d\n",
      "    dtm = fitsreader.open('../data/' + dataset + '.fits')[0].data\n",
      "    if cut:\n",
      "#         dtm = dtm[dtm.shape[0]*1/4:dtm.shape[0]*3/4, dtm.shape[1]*1/4:dtm.shape[1]*3/4]\n",
      "        dtm = dtm[dtm.shape[0]*4/100:dtm.shape[0]*6/100, dtm.shape[1]*48/100:dtm.shape[1]*49/100]\n",
      "    for line in open('../data/' + dataset + '.pdslabel'):\n",
      "        if 'MAP_SCALE' in line and '<METERS/PIXEL>' in line:\n",
      "            res = float(line.split('=')[1].split('<')[0].strip())\n",
      "    bad = amin(dtm)\n",
      "    mask = dtm == bad\n",
      "    dtm[mask] = nan\n",
      "    dtm -= nanmin(dtm)\n",
      "    max_angles = empty_like(dtm)\n",
      "    max_angles.fill(inf)"
     ],
     "language": "python",
     "metadata": {},
     "outputs": [],
     "prompt_number": 2
    },
    {
     "cell_type": "code",
     "collapsed": false,
     "input": [
      "def isvalid(pos):\n",
      "    global dtm\n",
      "    return 0 <= pos[0] < dtm.shape[0] and 0 <= pos[1] < dtm.shape[1] and not isnan(dtm[pos])\n",
      "\n",
      "def dijkstra(startpos):\n",
      "    global dtm\n",
      "    global max_angles\n",
      "    global res\n",
      "    neighbors = [(1,0),(0,1),(-1,0),(0,-1)]\n",
      "    max_angles[startpos] = 0\n",
      "    fr = Frontier()\n",
      "    fr.push((0, startpos))\n",
      "    while fr.heap:\n",
      "        (height_diff, (px,py)) = fr.pop()\n",
      "        for n in map(lambda (x,y): (px + x, py + y), neighbors):\n",
      "            if isvalid(n):\n",
      "                alt = max([height_diff, dtm[n] - dtm[px,py]], key = abs)\n",
      "                if abs(alt) < abs(max_angles[n]):\n",
      "                    max_angles[n] = alt\n",
      "#                     print n\n",
      "                    fr.push((alt, n))\n",
      "\n",
      "def compute_angles():\n",
      "    global dtm\n",
      "    global max_angles\n",
      "    global res\n",
      "    global dataset\n",
      "    startpos = tuple(map(lambda x: x/2, dtm.shape))\n",
      "    dijkstra(startpos)\n",
      "    arctan(degrees(max_angles))\n",
      "    savemat('../data/' + dataset + '.mat', {'max_angles': max_angles})"
     ],
     "language": "python",
     "metadata": {},
     "outputs": [],
     "prompt_number": 3
    },
    {
     "cell_type": "code",
     "collapsed": false,
     "input": [
      "load_data(datasets[-1], False)\n",
      "# compute_angles()"
     ],
     "language": "python",
     "metadata": {},
     "outputs": [],
     "prompt_number": 6
    },
    {
     "cell_type": "code",
     "collapsed": false,
     "input": [
      "fig = plt.figure(figsize=(6, 12))\n",
      "max_angles[max_angles == inf] = nan\n",
      "plt.imshow(max_angles)\n",
      "plt.imshow(degrees(arctan(max_angles)))\n",
      "plt.colorbar()"
     ],
     "language": "python",
     "metadata": {},
     "outputs": [
      {
       "metadata": {},
       "output_type": "pyout",
       "prompt_number": 50,
       "text": [
        "<matplotlib.colorbar.Colorbar instance at 0x2b177669c710>"
       ]
      },
      {
       "metadata": {},
       "output_type": "display_data",
       "png": "[encoded data removed]",
       "text": [
        "<matplotlib.figure.Figure at 0x2b1776453490>"
       ]
      }
     ],
     "prompt_number": 50
    },
    {
     "cell_type": "code",
     "collapsed": false,
     "input": [
      "shape = (16897, 7138)\n",
      "max_angles = fromfile('../data/' + datasets[-1] + '.csv', dtype=float64).reshape(shape)"
     ],
     "language": "python",
     "metadata": {},
     "outputs": [],
     "prompt_number": 10
    },
    {
     "cell_type": "code",
     "collapsed": false,
     "input": [],
     "language": "python",
     "metadata": {},
     "outputs": []
    }
   ],
   "metadata": {}
  }
 ]
}